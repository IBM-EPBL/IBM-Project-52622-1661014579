{
  "nbformat": 4,
  "nbformat_minor": 0,
  "metadata": {
    "colab": {
      "provenance": []
    },
    "kernelspec": {
      "name": "python3",
      "display_name": "Python 3"
    },
    "language_info": {
      "name": "python"
    }
  },
  "cells": [
    {
      "cell_type": "markdown",
      "source": [
        "Basic Python"
      ],
      "metadata": {
        "id": "iWAZvgolakck"
      }
    },
    {
      "cell_type": "markdown",
      "source": [
        "1. Split this string"
      ],
      "metadata": {
        "id": "gyBlYjCwaoFs"
      }
    },
    {
      "cell_type": "code",
      "execution_count": null,
      "metadata": {
        "id": "cyW_-74DahVA"
      },
      "outputs": [],
      "source": [
        "s = \"Hi there Sam!\""
      ]
    },
    {
      "cell_type": "code",
      "source": [
        "p=s.split()\n",
        "print(p)"
      ],
      "metadata": {
        "id": "AFNoIgW1aur4"
      },
      "execution_count": null,
      "outputs": []
    },
    {
      "cell_type": "markdown",
      "source": [
        "2. Use .format() to print the following string.\n",
        "Output should be: The diameter of Earth is 12742 kilometers."
      ],
      "metadata": {
        "id": "eHAH1Y8Bawlq"
      }
    },
    {
      "cell_type": "code",
      "source": [
        "planet = \"Earth\"\n",
        "diameter = 12742\n",
        "txt=\"The diameter of {} is {} kilometers\".format(\"Earth\",12742)\n",
        "print (txt)"
      ],
      "metadata": {
        "id": "Dmm_KwfxazX5"
      },
      "execution_count": null,
      "outputs": []
    },
    {
      "cell_type": "markdown",
      "source": [
        "3. In this nest dictionary grab the word \"hello\""
      ],
      "metadata": {
        "id": "I6TtnK94a6TV"
      }
    },
    {
      "cell_type": "code",
      "source": [
        "d = {'k1':[1,2,3,{'tricky':['oh','man','inception',{'target':[1,2,3,'hello']}]}]}\n"
      ],
      "metadata": {
        "id": "KAcBeRLEa2qF"
      },
      "execution_count": null,
      "outputs": []
    },
    {
      "cell_type": "markdown",
      "source": [
        "**Numpy**"
      ],
      "metadata": {
        "id": "EG-24RCzbSq7"
      }
    },
    {
      "cell_type": "code",
      "source": [
        "import numpy as np"
      ],
      "metadata": {
        "id": "tkg5UHk3bSW7"
      },
      "execution_count": null,
      "outputs": []
    },
    {
      "cell_type": "markdown",
      "source": [
        "4.1 Create an array of 10 zeros?"
      ],
      "metadata": {
        "id": "Yeae13KubjlG"
      }
    },
    {
      "cell_type": "markdown",
      "source": [
        "4.2 Create an array of 10 fives?"
      ],
      "metadata": {
        "id": "vvqiVGVgbtie"
      }
    },
    {
      "cell_type": "code",
      "source": [
        "a=np.zeros(shape=10)"
      ],
      "metadata": {
        "id": "9uzR2MbrboYr"
      },
      "execution_count": null,
      "outputs": []
    },
    {
      "cell_type": "markdown",
      "source": [
        "a"
      ],
      "metadata": {
        "id": "M0qOHefcbwGY"
      }
    },
    {
      "cell_type": "code",
      "source": [
        "b=np.full(shape=10,fill_value=5)\n",
        "b"
      ],
      "metadata": {
        "id": "j5STYDKdbyzr"
      },
      "execution_count": null,
      "outputs": []
    },
    {
      "cell_type": "markdown",
      "source": [
        "5. Create an array of all the even integers from 20 to 35"
      ],
      "metadata": {
        "id": "P3Lawuafb3sn"
      }
    },
    {
      "cell_type": "code",
      "source": [
        "np.arange(20,36,2)"
      ],
      "metadata": {
        "id": "xr13_6O-b5aG"
      },
      "execution_count": null,
      "outputs": []
    },
    {
      "cell_type": "markdown",
      "source": [
        "6. Create a 3x3 matrix with values ranging from 0 to 8"
      ],
      "metadata": {
        "id": "l1CHcFxAb81C"
      }
    },
    {
      "cell_type": "code",
      "source": [
        "np.arange(9).reshape(3,3)"
      ],
      "metadata": {
        "id": "LzAuc6YccAHF"
      },
      "execution_count": null,
      "outputs": []
    },
    {
      "cell_type": "markdown",
      "source": [
        "7. Concatenate a and b\n"
      ],
      "metadata": {
        "id": "2ry7bqZ4cCak"
      }
    },
    {
      "cell_type": "code",
      "source": [
        "a = np.array([1, 2, 3])\n",
        " b = np.array([4, 5, 6])\n",
        " np.concatenate((a,b))"
      ],
      "metadata": {
        "id": "prT8lH8WcGqd"
      },
      "execution_count": null,
      "outputs": []
    },
    {
      "cell_type": "markdown",
      "source": [
        "Pandas\n",
        "8. Create a dataframe with 3 rows and 2 columns"
      ],
      "metadata": {
        "id": "qkq4qUZ7cNY6"
      }
    },
    {
      "cell_type": "code",
      "source": [
        "import pandas as pd\n",
        "pd.DataFrame(np.array([1,2,3,4,5,6]).reshape(3,2))"
      ],
      "metadata": {
        "id": "dCE5AmTVcRX3"
      },
      "execution_count": null,
      "outputs": []
    },
    {
      "cell_type": "markdown",
      "source": [
        "9. Generate the series of dates from 1st Jan, 2023 to 10th Feb, 2023"
      ],
      "metadata": {
        "id": "ZCHh8_FgcWwo"
      }
    },
    {
      "cell_type": "code",
      "source": [
        "pd.date_range(start='01/01/2023', end='10/02/2023')"
      ],
      "metadata": {
        "id": "XXf2cp3JcaEv"
      },
      "execution_count": null,
      "outputs": []
    },
    {
      "cell_type": "markdown",
      "source": [
        "10. Create 2D list to DataFrame"
      ],
      "metadata": {
        "id": "ZWdQK8jccfRD"
      }
    },
    {
      "cell_type": "code",
      "source": [
        "lists = [[1, 'aaa', 22], [2, 'bbb', 25], [3, 'ccc', 24]]\n",
        "pd.DataFrame(lists)"
      ],
      "metadata": {
        "id": "ZTBdh4sfcktH"
      },
      "execution_count": null,
      "outputs": []
    }
  ]
}